{
 "cells": [
  {
   "cell_type": "markdown",
   "metadata": {
    "papermill": {
     "duration": 0.015383,
     "end_time": "2020-12-24T06:45:49.279702",
     "exception": false,
     "start_time": "2020-12-24T06:45:49.264319",
     "status": "completed"
    },
    "tags": []
   },
   "source": [
    "**This notebook is an exercise in the [Data Cleaning](https://www.kaggle.com/learn/data-cleaning) course.  You can reference the tutorial at [this link](https://www.kaggle.com/alexisbcook/character-encodings).**\n",
    "\n",
    "---\n"
   ]
  },
  {
   "cell_type": "markdown",
   "metadata": {
    "papermill": {
     "duration": 0.01216,
     "end_time": "2020-12-24T06:45:49.305608",
     "exception": false,
     "start_time": "2020-12-24T06:45:49.293448",
     "status": "completed"
    },
    "tags": []
   },
   "source": [
    "In this exercise, you'll apply what you learned in the **Character encodings** tutorial.\n",
    "\n",
    "# Setup\n",
    "\n",
    "The questions below will give you feedback on your work. Run the following cell to set up the feedback system."
   ]
  },
  {
   "cell_type": "code",
   "execution_count": 1,
   "metadata": {
    "execution": {
     "iopub.execute_input": "2020-12-24T06:45:49.336276Z",
     "iopub.status.busy": "2020-12-24T06:45:49.335398Z",
     "iopub.status.idle": "2020-12-24T06:45:49.433228Z",
     "shell.execute_reply": "2020-12-24T06:45:49.433856Z"
    },
    "papermill": {
     "duration": 0.116314,
     "end_time": "2020-12-24T06:45:49.434107",
     "exception": false,
     "start_time": "2020-12-24T06:45:49.317793",
     "status": "completed"
    },
    "tags": []
   },
   "outputs": [
    {
     "name": "stdout",
     "output_type": "stream",
     "text": [
      "Setup Complete\n"
     ]
    }
   ],
   "source": [
    "from learntools.core import binder\n",
    "binder.bind(globals())\n",
    "from learntools.data_cleaning.ex4 import *\n",
    "print(\"Setup Complete\")"
   ]
  },
  {
   "cell_type": "markdown",
   "metadata": {
    "papermill": {
     "duration": 0.012333,
     "end_time": "2020-12-24T06:45:49.460013",
     "exception": false,
     "start_time": "2020-12-24T06:45:49.447680",
     "status": "completed"
    },
    "tags": []
   },
   "source": [
    "# Get our environment set up\n",
    "\n",
    "The first thing we'll need to do is load in the libraries we'll be using."
   ]
  },
  {
   "cell_type": "code",
   "execution_count": 2,
   "metadata": {
    "execution": {
     "iopub.execute_input": "2020-12-24T06:45:49.492386Z",
     "iopub.status.busy": "2020-12-24T06:45:49.491467Z",
     "iopub.status.idle": "2020-12-24T06:45:49.494482Z",
     "shell.execute_reply": "2020-12-24T06:45:49.495110Z"
    },
    "papermill": {
     "duration": 0.022573,
     "end_time": "2020-12-24T06:45:49.495282",
     "exception": false,
     "start_time": "2020-12-24T06:45:49.472709",
     "status": "completed"
    },
    "tags": []
   },
   "outputs": [],
   "source": [
    "# modules we'll use\n",
    "import pandas as pd\n",
    "import numpy as np\n",
    "\n",
    "# helpful character encoding module\n",
    "import chardet\n",
    "\n",
    "# set seed for reproducibility\n",
    "np.random.seed(0)"
   ]
  },
  {
   "cell_type": "markdown",
   "metadata": {
    "papermill": {
     "duration": 0.01257,
     "end_time": "2020-12-24T06:45:49.520857",
     "exception": false,
     "start_time": "2020-12-24T06:45:49.508287",
     "status": "completed"
    },
    "tags": []
   },
   "source": [
    "# 1) What are encodings?\n",
    "\n",
    "You're working with a dataset composed of bytes.  Run the code cell below to print a sample entry."
   ]
  },
  {
   "cell_type": "code",
   "execution_count": 3,
   "metadata": {
    "execution": {
     "iopub.execute_input": "2020-12-24T06:45:49.550977Z",
     "iopub.status.busy": "2020-12-24T06:45:49.549913Z",
     "iopub.status.idle": "2020-12-24T06:45:49.557034Z",
     "shell.execute_reply": "2020-12-24T06:45:49.557537Z"
    },
    "papermill": {
     "duration": 0.024083,
     "end_time": "2020-12-24T06:45:49.557713",
     "exception": false,
     "start_time": "2020-12-24T06:45:49.533630",
     "status": "completed"
    },
    "tags": []
   },
   "outputs": [
    {
     "name": "stdout",
     "output_type": "stream",
     "text": [
      "b'\\xa7A\\xa6n'\n",
      "data type: <class 'bytes'>\n"
     ]
    }
   ],
   "source": [
    "sample_entry = b'\\xa7A\\xa6n'\n",
    "print(sample_entry)\n",
    "print('data type:', type(sample_entry))"
   ]
  },
  {
   "cell_type": "markdown",
   "metadata": {
    "papermill": {
     "duration": 0.013277,
     "end_time": "2020-12-24T06:45:49.584707",
     "exception": false,
     "start_time": "2020-12-24T06:45:49.571430",
     "status": "completed"
    },
    "tags": []
   },
   "source": [
    "You notice that it doesn't use the standard UTF-8 encoding. \n",
    "\n",
    "Use the next code cell to create a variable `new_entry` that changes the encoding from `\"big5-tw\"` to `\"utf-8\"`.  `new_entry` should have the bytes datatype."
   ]
  },
  {
   "cell_type": "code",
   "execution_count": 4,
   "metadata": {
    "execution": {
     "iopub.execute_input": "2020-12-24T06:45:49.616871Z",
     "iopub.status.busy": "2020-12-24T06:45:49.616134Z",
     "iopub.status.idle": "2020-12-24T06:45:49.625017Z",
     "shell.execute_reply": "2020-12-24T06:45:49.625630Z"
    },
    "papermill": {
     "duration": 0.027579,
     "end_time": "2020-12-24T06:45:49.625828",
     "exception": false,
     "start_time": "2020-12-24T06:45:49.598249",
     "status": "completed"
    },
    "tags": []
   },
   "outputs": [
    {
     "data": {
      "application/javascript": [
       "parent.postMessage({\"jupyterEvent\": \"custom.exercise_interaction\", \"data\": {\"outcomeType\": 1, \"valueTowardsCompletion\": 0.3333333333333333, \"interactionType\": 1, \"questionType\": 1, \"questionId\": \"1_EncodingsIntro\", \"learnToolsVersion\": \"0.3.4\", \"failureMessage\": \"\", \"exceptionClass\": \"\", \"trace\": \"\"}}, \"*\")"
      ],
      "text/plain": [
       "<IPython.core.display.Javascript object>"
      ]
     },
     "metadata": {},
     "output_type": "display_data"
    },
    {
     "data": {
      "text/markdown": [
       "<span style=\"color:#33cc33\">Correct</span>"
      ],
      "text/plain": [
       "Correct"
      ]
     },
     "metadata": {},
     "output_type": "display_data"
    }
   ],
   "source": [
    "ss = sample_entry.decode(\"big5-tw\")\n",
    "new_entry = ss.encode()\n",
    "\n",
    "\n",
    "# Check your answer\n",
    "q1.check()"
   ]
  },
  {
   "cell_type": "code",
   "execution_count": 5,
   "metadata": {
    "execution": {
     "iopub.execute_input": "2020-12-24T06:45:49.659642Z",
     "iopub.status.busy": "2020-12-24T06:45:49.658822Z",
     "iopub.status.idle": "2020-12-24T06:45:49.662776Z",
     "shell.execute_reply": "2020-12-24T06:45:49.663313Z"
    },
    "papermill": {
     "duration": 0.022776,
     "end_time": "2020-12-24T06:45:49.663482",
     "exception": false,
     "start_time": "2020-12-24T06:45:49.640706",
     "status": "completed"
    },
    "tags": []
   },
   "outputs": [],
   "source": [
    "# Lines below will give you a hint or solution code\n",
    "#q1.hint()\n",
    "#q1.solution()"
   ]
  },
  {
   "cell_type": "markdown",
   "metadata": {
    "papermill": {
     "duration": 0.014507,
     "end_time": "2020-12-24T06:45:49.693078",
     "exception": false,
     "start_time": "2020-12-24T06:45:49.678571",
     "status": "completed"
    },
    "tags": []
   },
   "source": [
    "# 2) Reading in files with encoding problems\n",
    "\n",
    "Use the code cell below to read in this file at path `\"../input/fatal-police-shootings-in-the-us/PoliceKillingsUS.csv\"`.  \n",
    "\n",
    "Figure out what the correct encoding should be and read in the file to a DataFrame `police_killings`."
   ]
  },
  {
   "cell_type": "code",
   "execution_count": 6,
   "metadata": {
    "execution": {
     "iopub.execute_input": "2020-12-24T06:45:49.730866Z",
     "iopub.status.busy": "2020-12-24T06:45:49.730021Z",
     "iopub.status.idle": "2020-12-24T06:45:49.755240Z",
     "shell.execute_reply": "2020-12-24T06:45:49.755910Z"
    },
    "papermill": {
     "duration": 0.04725,
     "end_time": "2020-12-24T06:45:49.756088",
     "exception": false,
     "start_time": "2020-12-24T06:45:49.708838",
     "status": "completed"
    },
    "tags": []
   },
   "outputs": [
    {
     "data": {
      "application/javascript": [
       "parent.postMessage({\"jupyterEvent\": \"custom.exercise_interaction\", \"data\": {\"outcomeType\": 1, \"valueTowardsCompletion\": 0.3333333333333333, \"interactionType\": 1, \"questionType\": 1, \"questionId\": \"2_ReadIn\", \"learnToolsVersion\": \"0.3.4\", \"failureMessage\": \"\", \"exceptionClass\": \"\", \"trace\": \"\"}}, \"*\")"
      ],
      "text/plain": [
       "<IPython.core.display.Javascript object>"
      ]
     },
     "metadata": {},
     "output_type": "display_data"
    },
    {
     "data": {
      "text/markdown": [
       "<span style=\"color:#33cc33\">Correct</span>"
      ],
      "text/plain": [
       "Correct"
      ]
     },
     "metadata": {},
     "output_type": "display_data"
    }
   ],
   "source": [
    "# TODO: Load in the DataFrame correctly.\n",
    "police_killings = pd.read_csv(\"../input/fatal-police-shootings-in-the-us/PoliceKillingsUS.csv\", encoding='Windows-1252')\n",
    "police_killings.head()\n",
    "# Check your answer\n",
    "q2.check()"
   ]
  },
  {
   "cell_type": "markdown",
   "metadata": {
    "papermill": {
     "duration": 0.015641,
     "end_time": "2020-12-24T06:45:49.787840",
     "exception": false,
     "start_time": "2020-12-24T06:45:49.772199",
     "status": "completed"
    },
    "tags": []
   },
   "source": [
    "Feel free to use any additional code cells for supplemental work.  To get credit for finishing this question, you'll need to run `q2.check()` and get a result of **Correct**."
   ]
  },
  {
   "cell_type": "code",
   "execution_count": 7,
   "metadata": {
    "execution": {
     "iopub.execute_input": "2020-12-24T06:45:49.824606Z",
     "iopub.status.busy": "2020-12-24T06:45:49.823702Z",
     "iopub.status.idle": "2020-12-24T06:45:49.827602Z",
     "shell.execute_reply": "2020-12-24T06:45:49.828126Z"
    },
    "papermill": {
     "duration": 0.024305,
     "end_time": "2020-12-24T06:45:49.828316",
     "exception": false,
     "start_time": "2020-12-24T06:45:49.804011",
     "status": "completed"
    },
    "tags": []
   },
   "outputs": [],
   "source": [
    "# (Optional) Use this code cell for any additional work."
   ]
  },
  {
   "cell_type": "code",
   "execution_count": 8,
   "metadata": {
    "execution": {
     "iopub.execute_input": "2020-12-24T06:45:49.866170Z",
     "iopub.status.busy": "2020-12-24T06:45:49.865399Z",
     "iopub.status.idle": "2020-12-24T06:45:49.868584Z",
     "shell.execute_reply": "2020-12-24T06:45:49.869115Z"
    },
    "papermill": {
     "duration": 0.024429,
     "end_time": "2020-12-24T06:45:49.869281",
     "exception": false,
     "start_time": "2020-12-24T06:45:49.844852",
     "status": "completed"
    },
    "tags": []
   },
   "outputs": [],
   "source": [
    "# Lines below will give you a hint or solution code\n",
    "#q2.hint()\n",
    "#q2.solution()"
   ]
  },
  {
   "cell_type": "markdown",
   "metadata": {
    "papermill": {
     "duration": 0.016714,
     "end_time": "2020-12-24T06:45:49.902723",
     "exception": false,
     "start_time": "2020-12-24T06:45:49.886009",
     "status": "completed"
    },
    "tags": []
   },
   "source": [
    "# 3) Saving your files with UTF-8 encoding\n",
    "\n",
    "Save a version of the police killings dataset to CSV with UTF-8 encoding.  Your answer will be marked correct after saving this file.  \n",
    "\n",
    "Note: When using the `to_csv()` method, supply only the name of the file (e.g., `\"my_file.csv\"`).  This saves the file at the filepath `\"/kaggle/working/my_file.csv\"`."
   ]
  },
  {
   "cell_type": "code",
   "execution_count": 9,
   "metadata": {
    "execution": {
     "iopub.execute_input": "2020-12-24T06:45:49.942052Z",
     "iopub.status.busy": "2020-12-24T06:45:49.941172Z",
     "iopub.status.idle": "2020-12-24T06:45:50.413938Z",
     "shell.execute_reply": "2020-12-24T06:45:50.413149Z"
    },
    "papermill": {
     "duration": 0.493584,
     "end_time": "2020-12-24T06:45:50.414116",
     "exception": false,
     "start_time": "2020-12-24T06:45:49.920532",
     "status": "completed"
    },
    "tags": []
   },
   "outputs": [
    {
     "data": {
      "application/javascript": [
       "parent.postMessage({\"jupyterEvent\": \"custom.exercise_interaction\", \"data\": {\"outcomeType\": 1, \"valueTowardsCompletion\": 0.3333333333333333, \"interactionType\": 1, \"questionType\": 2, \"questionId\": \"3_SaveCSV\", \"learnToolsVersion\": \"0.3.4\", \"failureMessage\": \"\", \"exceptionClass\": \"\", \"trace\": \"\"}}, \"*\")"
      ],
      "text/plain": [
       "<IPython.core.display.Javascript object>"
      ]
     },
     "metadata": {},
     "output_type": "display_data"
    },
    {
     "data": {
      "text/markdown": [
       "<span style=\"color:#33cc33\">Correct</span>"
      ],
      "text/plain": [
       "Correct"
      ]
     },
     "metadata": {},
     "output_type": "display_data"
    }
   ],
   "source": [
    "# TODO: Save the police killings dataset to CSV\n",
    "police_killings.to_csv(\"police_killings-uft8.csv\")\n",
    "\n",
    "# Check your answer\n",
    "q3.check()"
   ]
  },
  {
   "cell_type": "code",
   "execution_count": 10,
   "metadata": {
    "execution": {
     "iopub.execute_input": "2020-12-24T06:45:50.455711Z",
     "iopub.status.busy": "2020-12-24T06:45:50.455038Z",
     "iopub.status.idle": "2020-12-24T06:45:50.456982Z",
     "shell.execute_reply": "2020-12-24T06:45:50.457634Z"
    },
    "papermill": {
     "duration": 0.025812,
     "end_time": "2020-12-24T06:45:50.457825",
     "exception": false,
     "start_time": "2020-12-24T06:45:50.432013",
     "status": "completed"
    },
    "tags": []
   },
   "outputs": [],
   "source": [
    "# Lines below will give you a hint or solution code\n",
    "#q3.hint()\n",
    "#q3.solution()"
   ]
  },
  {
   "cell_type": "markdown",
   "metadata": {
    "papermill": {
     "duration": 0.016855,
     "end_time": "2020-12-24T06:45:50.493602",
     "exception": false,
     "start_time": "2020-12-24T06:45:50.476747",
     "status": "completed"
    },
    "tags": []
   },
   "source": [
    "# (Optional) More practice\n",
    "\n",
    "Check out [this dataset of files in different character encodings](https://www.kaggle.com/rtatman/character-encoding-examples). Can you read in all the files with their original encodings and them save them out as UTF-8 files?\n",
    "\n",
    "If you have a file that's in UTF-8 but has just a couple of weird-looking characters in it, you can try out the [ftfy module](https://ftfy.readthedocs.io/en/latest/#) and see if it helps. \n",
    "\n",
    "# Keep going\n",
    "\n",
    "In the final lesson, learn how to [**clean up inconsistent text entries**](https://www.kaggle.com/alexisbcook/inconsistent-data-entry) in your dataset."
   ]
  },
  {
   "cell_type": "markdown",
   "metadata": {
    "papermill": {
     "duration": 0.017433,
     "end_time": "2020-12-24T06:45:50.528512",
     "exception": false,
     "start_time": "2020-12-24T06:45:50.511079",
     "status": "completed"
    },
    "tags": []
   },
   "source": [
    "---\n",
    "\n",
    "\n",
    "\n",
    "\n",
    "*Have questions or comments? Visit the [Learn Discussion forum](https://www.kaggle.com/learn-forum/172650) to chat with other Learners.*"
   ]
  }
 ],
 "metadata": {
  "kernelspec": {
   "display_name": "Python 3",
   "language": "python",
   "name": "python3"
  },
  "language_info": {
   "codemirror_mode": {
    "name": "ipython",
    "version": 3
   },
   "file_extension": ".py",
   "mimetype": "text/x-python",
   "name": "python",
   "nbconvert_exporter": "python",
   "pygments_lexer": "ipython3",
   "version": "3.7.6"
  },
  "papermill": {
   "duration": 6.876313,
   "end_time": "2020-12-24T06:45:50.653466",
   "environment_variables": {},
   "exception": null,
   "input_path": "__notebook__.ipynb",
   "output_path": "__notebook__.ipynb",
   "parameters": {},
   "start_time": "2020-12-24T06:45:43.777153",
   "version": "2.1.0"
  }
 },
 "nbformat": 4,
 "nbformat_minor": 4
}
